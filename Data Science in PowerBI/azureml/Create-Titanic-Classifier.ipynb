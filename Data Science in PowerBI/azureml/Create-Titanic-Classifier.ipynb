{
  "cells": [
    {
      "metadata": {
        "trusted": false
      },
      "cell_type": "code",
      "source": [
        "from azureml.core import Webservice, Workspace, Dataset, Datastore, Experiment, Run\n",
        "from azureml.core.model import InferenceConfig, Model\n",
        "import azureml.dataprep\n",
        "import math, random, pickle\n",
        "import pandas as pd\n",
        "import numpy as np"
      ],
      "execution_count": 21,
      "outputs": []
    },
    {
      "cell_type": "code",
      "execution_count": 2,
      "metadata": {},
      "outputs": [],
      "source": [
        "experiment_name = \"titanic_classifier\"\n",
        "model_name = \"titanic_classifier_model\"\n",
        "webservice_name = 'titanic-classifier'"
      ]
    },
    {
      "metadata": {
        "trusted": false
      },
      "cell_type": "code",
      "source": [
        "from azureml.core.authentication import AzureCliAuthentication\n",
        "\n",
        "try:\n",
        "    ws = Workspace.from_config()\n",
        "except:\n",
        "    cli_auth = AzureCliAuthentication()\n",
        "\n",
        "    ws = Workspace(subscription_id=\"d87d4530-ce4e-4d84-b997-7a78d01e2906\",\n",
        "               resource_group=\"mlops-RG\",\n",
        "               workspace_name=\"mlops-AML-WS\",\n",
        "               auth=cli_auth)"
      ],
      "execution_count": 4,
      "outputs": [
        {
          "output_type": "stream",
          "name": "stdout",
          "text": "Performing interactive authentication. Please follow the instructions on the terminal.\nWARNING - Note, we have launched a browser for you to login. For old experience with device code, use \"az login --use-device-code\"\nWARNING - You have logged in. Now let us find all the subscriptions to which you have access...\nWARNING - Failed to authenticate '{'additional_properties': {}, 'id': '/tenants/b4c9f32e-da17-4ded-9c95-ce9da38f25d9', 'tenant_id': 'b4c9f32e-da17-4ded-9c95-ce9da38f25d9'}' due to error 'Get Token request returned http error: 400 and server response: {\"error\":\"interaction_required\",\"error_description\":\"AADSTS53003: Access has been blocked by Conditional Access policies. The access policy does not allow token issuance.\\r\\nTrace ID: c1117803-5de5-4871-ba86-055341a33200\\r\\nCorrelation ID: 08c043a0-b1c1-4f4e-97fe-3005e6054b28\\r\\nTimestamp: 2020-05-13 20:23:39Z\",\"error_codes\":[53003],\"timestamp\":\"2020-05-13 20:23:39Z\",\"trace_id\":\"c1117803-5de5-4871-ba86-055341a33200\",\"correlation_id\":\"08c043a0-b1c1-4f4e-97fe-3005e6054b28\",\"error_uri\":\"https://login.microsoftonline.com/error?code=53003\",\"suberror\":\"message_only\"}'\nInteractive authentication successfully completed.\n"
        }
      ]
    },
    {
      "metadata": {
        "trusted": false
      },
      "cell_type": "code",
      "source": [
        "experiment = Experiment(workspace = ws, name = experiment_name)"
      ],
      "execution_count": 5,
      "outputs": []
    },
    {
      "cell_type": "code",
      "execution_count": 6,
      "metadata": {},
      "outputs": [
        {
          "output_type": "execute_result",
          "data": {
            "text/plain": "{\n  \"name\": \"workspaceblobstore\",\n  \"container_name\": \"azureml-blobstore-6f7dfc08-44b5-438d-a6bc-9c804e0bdd76\",\n  \"account_name\": \"kylemhaleamlsa\",\n  \"protocol\": \"https\",\n  \"endpoint\": \"core.windows.net\"\n}"
          },
          "metadata": {},
          "execution_count": 6
        }
      ],
      "source": [
        "datastore = Datastore.get_default(workspace=ws)\n",
        "datastore"
      ]
    },
    {
      "cell_type": "code",
      "execution_count": 7,
      "metadata": {},
      "outputs": [],
      "source": [
        "titanic_ds = pd.read_csv(\"./data/titanic3.csv\")\n",
        "#drop unnecessary columns for classifier\n",
        "titanic_ds.drop(['name','ticket','fare','cabin','embarked','boat','body','home.dest'], axis=1, inplace=True)\n",
        "\n",
        "#condense Families to unaccompanied boolean\n",
        "titanic_ds['unaccompanied'] = np.where(titanic_ds.sibsp > 0, 1, np.where(titanic_ds['parch'] > 0, 1, 0))\n",
        "titanic_ds.drop(['sibsp', 'parch'], axis=1, inplace=True)\n",
        "\n",
        "#map gender to numeric values\n",
        "genders = {\"male\": 0, \"female\": 1}\n",
        "titanic_ds['sex'] = titanic_ds['sex'].map(genders)\n",
        "\n",
        "#round age to nearest year, and fill in missing values with average age\n",
        "titanic_ds[\"age\"].fillna(titanic_ds[\"age\"].mean(), inplace=True)\n",
        "titanic_ds['age'] = titanic_ds['age'].astype(int)\n",
        "\n",
        "#re-bin ages into groups\n",
        "titanic_ds['age'] = pd.cut(titanic_ds['age'], [-10, 18, 40, 100], labels=[1,2,3]).astype(int)\n",
        "\n",
        "titanic_ds = titanic_ds.reindex(columns=['pclass','age','sex','unaccompanied','survived'])\n"
      ]
    },
    {
      "cell_type": "code",
      "execution_count": 10,
      "metadata": {},
      "outputs": [
        {
          "output_type": "stream",
          "name": "stdout",
          "text": "Uploading an estimated of 1 files\nTarget already exists. Skipping upload for data\\titanic-engineered.csv\nUploaded 0 files\n"
        }
      ],
      "source": [
        "engineered_data_path = './data/uploads/titanic-engineered.csv'\n",
        "titanic_ds.to_csv(engineered_data_path)\n",
        "\n",
        "datastore.upload(src_dir='./data/uploads', target_path='data')\n",
        "\n",
        "dataset = Dataset.Tabular.from_delimited_files(datastore.path('data/titanic-engineered.csv'))\n",
        "\n",
        "titanic_df = dataset.to_pandas_dataframe()"
      ]
    },
    {
      "cell_type": "code",
      "execution_count": 11,
      "metadata": {},
      "outputs": [],
      "source": [
        "from sklearn.model_selection import train_test_split\n",
        "\n",
        "X = titanic_df.iloc[ : , :-1].values\n",
        "y = titanic_df.iloc[ : , 4].values\n",
        "\n",
        "X_train, X_test, Y_train, Y_test = train_test_split(X, y, test_size=0.33, random_state=39)\n",
        "\n"
      ]
    },
    {
      "metadata": {
        "trusted": false
      },
      "cell_type": "code",
      "source": [
        "\n",
        "from sklearn.tree import DecisionTreeClassifier\n",
        "\n",
        "run = experiment.start_logging(snapshot_directory=None)\n",
        "\n",
        "# Log total number of iterations\n",
        "decision_tree = DecisionTreeClassifier() \n",
        "decision_tree.fit(X_train, Y_train)  \n",
        "Y_pred = decision_tree.predict(X_test) \n",
        "acc_decision_tree = round(decision_tree.score(X_train, Y_train) * 100, 2)\n",
        "# Log final results\n",
        "run.log(\"Final estimate\", acc_decision_tree)\n",
        "#run.log(\"Final error\",math.pi-pi_estimate)\n",
        "\n",
        "# Write file containing pi value into run history\n",
        "#with open(\"pi_estimate.txt\",\"wb\") as f:\n",
        "    #pickle.dump(str(pi_estimate),f)\n",
        "filename = 'finalized_model.sav'\n",
        "pickle.dump(decision_tree , open(filename, 'wb'))\n",
        "run.upload_file(name = 'outputs/finalized_model.sav', path_or_stream = './finalized_model.sav')\n",
        "\n",
        "# Complete tracking and get link to details\n",
        "run.complete()\n",
        "print(\"Run completed\")"
      ],
      "execution_count": 12,
      "outputs": [
        {
          "output_type": "stream",
          "name": "stdout",
          "text": "Run completed\n"
        }
      ]
    },
    {
      "cell_type": "code",
      "execution_count": 13,
      "metadata": {},
      "outputs": [
        {
          "output_type": "stream",
          "name": "stdout",
          "text": "precision    recall  f1-score   support\n\n     class 0       1.00      1.00      1.00       250\n     class 1       1.00      1.00      1.00       182\n\n    accuracy                           1.00       432\n   macro avg       1.00      1.00      1.00       432\nweighted avg       1.00      1.00      1.00       432\n\n"
        }
      ],
      "source": [
        "from sklearn.metrics import classification_report\n",
        "\n",
        "print(classification_report(Y_test,Y_pred, target_names=['class 0', 'class 1']))"
      ]
    },
    {
      "metadata": {
        "trusted": true
      },
      "cell_type": "code",
      "source": [
        "experiment"
      ],
      "execution_count": 15,
      "outputs": [
        {
          "output_type": "execute_result",
          "data": {
            "text/plain": "Experiment(Name: titanic_classifier,\nWorkspace: mlops-AML-WS)",
            "text/html": "<table style=\"width:100%\"><tr><th>Name</th><th>Workspace</th><th>Report Page</th><th>Docs Page</th></tr><tr><td>titanic_classifier</td><td>mlops-AML-WS</td><td><a href=\"https://ml.azure.com/experiments/titanic_classifier?wsid=/subscriptions/d87d4530-ce4e-4d84-b997-7a78d01e2906/resourcegroups/mlops-RG/workspaces/mlops-AML-WS\" target=\"_blank\" rel=\"noopener\">Link to Azure Machine Learning studio</a></td><td><a href=\"https://docs.microsoft.com/en-us/python/api/azureml-core/azureml.core.experiment.Experiment?view=azure-ml-py\" target=\"_blank\" rel=\"noopener\">Link to Documentation</a></td></tr></table>"
          },
          "metadata": {},
          "execution_count": 15
        }
      ]
    },
    {
      "cell_type": "code",
      "execution_count": 16,
      "metadata": {},
      "outputs": [
        {
          "output_type": "execute_result",
          "data": {
            "text/plain": "Run(Experiment: titanic_classifier,\nId: e82e3e4d-f4bd-4f8f-9003-a89e6f2ab78f,\nType: None,\nStatus: Completed)",
            "text/html": "<table style=\"width:100%\"><tr><th>Experiment</th><th>Id</th><th>Type</th><th>Status</th><th>Details Page</th><th>Docs Page</th></tr><tr><td>titanic_classifier</td><td>e82e3e4d-f4bd-4f8f-9003-a89e6f2ab78f</td><td></td><td>Completed</td><td><a href=\"https://ml.azure.com/experiments/titanic_classifier/runs/e82e3e4d-f4bd-4f8f-9003-a89e6f2ab78f?wsid=/subscriptions/d87d4530-ce4e-4d84-b997-7a78d01e2906/resourcegroups/mlops-RG/workspaces/mlops-AML-WS\" target=\"_blank\" rel=\"noopener\">Link to Azure Machine Learning studio</a></td><td><a href=\"https://docs.microsoft.com/en-us/python/api/azureml-core/azureml.core.run.Run?view=azure-ml-py\" target=\"_blank\" rel=\"noopener\">Link to Documentation</a></td></tr></table>"
          },
          "metadata": {},
          "execution_count": 16
        }
      ],
      "source": [
        "run = list(Experiment(workspace = ws, name = experiment.name).get_runs())[0]\n",
        "run"
      ]
    },
    {
      "cell_type": "code",
      "execution_count": 17,
      "metadata": {},
      "outputs": [],
      "source": [
        "model = run.register_model(model_name = \"titanic_classifier\", model_path = \"outputs/finalized_model.sav\")"
      ]
    },
    {
      "cell_type": "code",
      "execution_count": 18,
      "metadata": {},
      "outputs": [
        {
          "output_type": "stream",
          "name": "stdout",
          "text": "Overwriting score.py\n"
        }
      ],
      "source": [
        "%%writefile score.py\n",
        "import pickle, json\n",
        "from azureml.core.model import Model\n",
        "import pandas as pd\n",
        "import numpy as np\n",
        "\n",
        "from inference_schema.schema_decorators import input_schema, output_schema\n",
        "from inference_schema.parameter_types.numpy_parameter_type import NumpyParameterType\n",
        "from inference_schema.parameter_types.pandas_parameter_type import PandasParameterType\n",
        "from sklearn.externals import joblib\n",
        "\n",
        "def init():\n",
        "    global titanic_classifier\n",
        "    model_path = Model.get_model_path(model_name = \"titanic_classifier\")\n",
        "    #model_path = \"finalized_model.sav\"\n",
        "    #with open(model_path, \"rb\") as f:\n",
        "    titanic_classifier = joblib.load(model_path)\n",
        "\n",
        "input_sample = pd.DataFrame(data=[{\n",
        "    \"age\": 20,\n",
        "    \"pclass\": 1,\n",
        "    \"unaccompanied\" : 0,\n",
        "    \"sex\" : 0\n",
        "}])\n",
        "\n",
        "output_sample = np.array([0])\n",
        "\n",
        "@input_schema('data', PandasParameterType(input_sample))\n",
        "@output_schema(NumpyParameterType(output_sample))\n",
        "def run(data):\n",
        "    try:\n",
        "        result = titanic_classifier.predict(data)\n",
        "        return result.tolist()\n",
        "    except Exception as e:\n",
        "        result = str(e)\n",
        "        return error"
      ]
    },
    {
      "cell_type": "code",
      "execution_count": 29,
      "metadata": {},
      "outputs": [],
      "source": [
        "\n",
        "\n",
        "inference_config = InferenceConfig(entry_script='score.py', runtime='python', conda_file='service-env.yml')\n"
      ]
    },
    {
      "cell_type": "code",
      "execution_count": 34,
      "metadata": {},
      "outputs": [
        {
          "output_type": "error",
          "ename": "TypeError",
          "evalue": "update() got an unexpected keyword argument 'name'",
          "traceback": [
            "\u001b[1;31m---------------------------------------------------------------------------\u001b[0m",
            "\u001b[1;31mTypeError\u001b[0m                                 Traceback (most recent call last)",
            "\u001b[1;32m<ipython-input-34-a474f47017e6>\u001b[0m in \u001b[0;36m<module>\u001b[1;34m\u001b[0m\n\u001b[0;32m     12\u001b[0m \u001b[0mservice\u001b[0m\u001b[1;33m\u001b[0m\u001b[0m\n\u001b[0;32m     13\u001b[0m \u001b[1;33m\u001b[0m\u001b[0m\n\u001b[1;32m---> 14\u001b[1;33m \u001b[0mservice\u001b[0m\u001b[1;33m.\u001b[0m\u001b[0mupdate\u001b[0m\u001b[1;33m(\u001b[0m\u001b[0mname\u001b[0m\u001b[1;33m=\u001b[0m\u001b[1;34m'titanic-classifier-svc'\u001b[0m\u001b[1;33m)\u001b[0m\u001b[1;33m\u001b[0m\u001b[0m\n\u001b[0m\u001b[0;32m     15\u001b[0m \u001b[0mprint\u001b[0m\u001b[1;33m(\u001b[0m\u001b[1;34mf'Service State: {service.state}'\u001b[0m\u001b[1;33m)\u001b[0m\u001b[1;33m\u001b[0m\u001b[0m\n",
            "\u001b[1;31mTypeError\u001b[0m: update() got an unexpected keyword argument 'name'"
          ]
        }
      ],
      "source": [
        "from azureml.core.webservice import AciWebservice\n",
        "\n",
        "try:\n",
        "    service = Webservice(ws, \"titanic-classifier\")\n",
        "except:\n",
        "    aci_config = AciWebservice.deploy_configuration(cpu_cores=1, memory_gb=1)\n",
        "\n",
        "    service = Model.deploy(workspace=ws, name='titanic-classifier', models=[model], inference_config=inference_config, deployment_config=aci_config, deployment_target=None)\n",
        "    service.update(description='Binary classifier for Titanic')\n",
        "    service.wait_for_deployment(show_output = True)\n",
        "\n",
        "service\n",
        "\n",
        "service.update(name='titanic-classifier-svc')\n",
        "print(f'Service State: {service.state}')"
      ]
    },
    {
      "cell_type": "code",
      "execution_count": 30,
      "metadata": {},
      "outputs": [],
      "source": [
        "service.update(models=[model], inference_config = inference_config)"
      ]
    },
    {
      "cell_type": "code",
      "execution_count": 31,
      "metadata": {},
      "outputs": [
        {
          "output_type": "execute_result",
          "data": {
            "text/plain": "[1, 1]"
          },
          "metadata": {},
          "execution_count": 31
        }
      ],
      "source": [
        "   # Testing our webservice\n",
        "   \n",
        "   import json\n",
        "   from azureml.core import Webservice\n",
        "\n",
        "   service = Webservice(workspace=ws, name=\"titanic-classifier\")\n",
        "    \n",
        "   request = json.dumps({\"data\" : [{\"sex\": 0, \"pclass\" : 3, \"age\": 70, \"unaccompanied\": 0}, {\"sex\": 1, \"pclass\" : 1, \"age\": 34, \"unaccompanied\": 1}]})\n",
        "   response = service.run(request)\n",
        "   response #should receive array with 2 predicted values of survival"
      ]
    },
    {
      "cell_type": "code",
      "execution_count": null,
      "metadata": {},
      "outputs": [],
      "source": []
    }
  ],
  "metadata": {
    "kernelspec": {
      "name": "python3",
      "display_name": "Python 3",
      "language": "python"
    },
    "language_info": {
      "mimetype": "text/x-python",
      "nbconvert_exporter": "python",
      "name": "python",
      "pygments_lexer": "ipython3",
      "version": "3.6.2-final",
      "file_extension": ".py",
      "codemirror_mode": {
        "version": 3,
        "name": "ipython"
      }
    }
  },
  "nbformat": 4,
  "nbformat_minor": 2
}