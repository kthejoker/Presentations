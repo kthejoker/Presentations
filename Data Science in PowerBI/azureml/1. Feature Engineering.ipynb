{
  "cells": [
    {
      "metadata": {
        "trusted": false
      },
      "cell_type": "code",
      "source": [
        "import pandas as pd\n",
        "import numpy as np"
      ],
      "execution_count": 1,
      "outputs": []
    },
    {
      "cell_type": "code",
      "execution_count": 2,
      "metadata": {},
      "outputs": [],
      "source": [
        "titanic_ds = pd.read_csv(\"./data/titanic3.csv\")\n",
        "#drop unnecessary columns for classifier\n",
        "titanic_ds.drop(['name','ticket','fare','cabin','embarked','boat','body','home.dest'], axis=1, inplace=True)\n",
        "\n",
        "#condense Families to unaccompanied boolean\n",
        "titanic_ds['unaccompanied'] = np.where(titanic_ds.sibsp > 0, 1, np.where(titanic_ds['parch'] > 0, 1, 0))\n",
        "titanic_ds.drop(['sibsp', 'parch'], axis=1, inplace=True)\n",
        "\n",
        "#map gender to numeric values\n",
        "genders = {\"male\": 0, \"female\": 1}\n",
        "titanic_ds['sex'] = titanic_ds['sex'].map(genders)\n",
        "\n",
        "#round age to nearest year, and fill in missing values with average age\n",
        "titanic_ds[\"age\"].fillna(titanic_ds[\"age\"].mean(), inplace=True)\n",
        "titanic_ds['age'] = titanic_ds['age'].astype(int)\n",
        "\n",
        "#re-bin ages into groups\n",
        "titanic_ds['age'] = pd.cut(titanic_ds['age'], [-10, 18, 40, 100], labels=[1,2,3]).astype(int)\n",
        "\n",
        "titanic_ds = titanic_ds.reindex(columns=['pclass','age','sex','unaccompanied','survived'])\n"
      ]
    },
    {
      "cell_type": "code",
      "execution_count": 3,
      "metadata": {},
      "outputs": [],
      "source": [
        "#write file out to disk\n",
        "engineered_data_path = './data/uploads/titanic-engineered.csv'\n",
        "titanic_ds.to_csv(engineered_data_path, index=False)"
      ]
    }
  ],
  "metadata": {
    "kernelspec": {
      "name": "python3",
      "display_name": "Python 3",
      "language": "python"
    },
    "language_info": {
      "mimetype": "text/x-python",
      "nbconvert_exporter": "python",
      "name": "python",
      "pygments_lexer": "ipython3",
      "version": "3.6.2-final",
      "file_extension": ".py",
      "codemirror_mode": {
        "version": 3,
        "name": "ipython"
      }
    }
  },
  "nbformat": 4,
  "nbformat_minor": 2
}