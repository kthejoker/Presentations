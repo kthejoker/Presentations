{
  "cells": [
    {
      "cell_type": "markdown",
      "metadata": {},
      "source": [
        "\n",
        "### Prerequisites\n",
        "\n",
        "This notebook assumes you have:\n",
        "\n",
        "* An Azure subscription \n",
        "* with an Azure Machine Learning workspace\n",
        "* with a provisioned CPU cluster\n",
        "\n",
        "### Before Running this Notebook\n",
        "\n",
        "Configure the *config.json* file with the relevant Azure subscription ID, Azure resource group, and Azure Machine Learning workspace name.\n",
        "\n",
        "Create a conda environment with the provided *myenv.yml* file\n",
        "\n",
        "`conda env create myenv --file myenv.yml`\n",
        "\n",
        "### Running the Notebook\n",
        "\n",
        "This notebook will:\n",
        "* Connect to your Azure ML workspace\n",
        "* Create a new experiment\n",
        "* Create a registed dataset from a naively engineered version of the Titanic dataset\n",
        "* Publish a decision tree classifier model to the workspace\n",
        "* Deploy a webservice for inferencing the model (see *score.py* for inferencing configuration and input schema)\n",
        "\n",
        "There is also a testing cell at the end to verify the service is operational.\n",
        "\n",
        "### Troubleshooting\n",
        "\n",
        "#### My Azure ML Workspace is not in my default tenant.\n",
        "\n",
        "If your Azure Machine Learning workspace is not in your default tenant when you login to the Azure Portal, you will need to login manually outside of this notebook via the Azure CLI (installed with the conda environment above) or Azure Powershell\n",
        "\n",
        "For Azure CLI (replace {tenant_id} with your tenant GUID)\n",
        "\n",
        "`az login -t {tenant_id}`\n",
        "\n",
        "For Azure PowerShell:\n",
        "\n",
        "`Connect-AzAccount -Tenant '{tenant_id}'`\n",
        "\n"
      ]
    },
    {
      "metadata": {
        "trusted": false
      },
      "cell_type": "code",
      "source": [
        "from azureml.core import Webservice, Workspace, Dataset, Datastore, Experiment, Run\n",
        "from azureml.core.model import InferenceConfig, Model\n",
        "import azureml.dataprep\n",
        "import math, random, pickle\n",
        "import pandas as pd\n",
        "import numpy as np"
      ],
      "execution_count": 2,
      "outputs": []
    },
    {
      "cell_type": "code",
      "execution_count": 3,
      "metadata": {},
      "outputs": [],
      "source": [
        "experiment_name = \"titanic_classifier\"\n",
        "webservice_name = 'titanic-classifier' # only accepts alphanumerics and dashes\n",
        "dataset_name = \"titanic_ds\""
      ]
    },
    {
      "metadata": {
        "trusted": false
      },
      "cell_type": "code",
      "source": [
        "from azureml.core.authentication import AzureCliAuthentication\n",
        "import json\n",
        "\n",
        "try:\n",
        "    ws = Workspace.from_config() # only works if your ML workspace is in your default tenant\n",
        "except:\n",
        "    cli_auth = AzureCliAuthentication() #workaround: login with \"az login -t {tenant_id}\" in CLI\n",
        "\n",
        "    with open(\"./config.json\") as json_file:\n",
        "        config = json.load(json_file)\n",
        "    \n",
        "    ws = Workspace(subscription_id=config['subscription_id'],\n",
        "               resource_group=config['resource_group'],\n",
        "               workspace_name=config['workspace_name'],\n",
        "               auth=cli_auth)"
      ],
      "execution_count": 4,
      "outputs": [
        {
          "output_type": "stream",
          "name": "stdout",
          "text": "Performing interactive authentication. Please follow the instructions on the terminal.\nWARNING - Note, we have launched a browser for you to login. For old experience with device code, use \"az login --use-device-code\"\nWARNING - You have logged in. Now let us find all the subscriptions to which you have access...\nWARNING - Failed to authenticate '{'additional_properties': {}, 'id': '/tenants/b4c9f32e-da17-4ded-9c95-ce9da38f25d9', 'tenant_id': 'b4c9f32e-da17-4ded-9c95-ce9da38f25d9'}' due to error 'Get Token request returned http error: 400 and server response: {\"error\":\"interaction_required\",\"error_description\":\"AADSTS53003: Access has been blocked by Conditional Access policies. The access policy does not allow token issuance.\\r\\nTrace ID: b530f45d-a3c9-42f5-aee8-9e2f3fcc3900\\r\\nCorrelation ID: 378aa395-d4bb-43e0-9a44-a070c3e1a5fa\\r\\nTimestamp: 2020-05-13 22:57:46Z\",\"error_codes\":[53003],\"timestamp\":\"2020-05-13 22:57:46Z\",\"trace_id\":\"b530f45d-a3c9-42f5-aee8-9e2f3fcc3900\",\"correlation_id\":\"378aa395-d4bb-43e0-9a44-a070c3e1a5fa\",\"error_uri\":\"https://login.microsoftonline.com/error?code=53003\",\"suberror\":\"message_only\"}'\nInteractive authentication successfully completed.\n"
        }
      ]
    },
    {
      "metadata": {
        "trusted": false
      },
      "cell_type": "code",
      "source": [
        "experiment = Experiment(workspace = ws, name = experiment_name)"
      ],
      "execution_count": 35,
      "outputs": []
    },
    {
      "cell_type": "code",
      "execution_count": 17,
      "metadata": {},
      "outputs": [
        {
          "output_type": "execute_result",
          "data": {
            "text/plain": "{\n  \"name\": \"workspaceblobstore\",\n  \"container_name\": \"azureml-blobstore-6f7dfc08-44b5-438d-a6bc-9c804e0bdd76\",\n  \"account_name\": \"kylemhaleamlsa\",\n  \"protocol\": \"https\",\n  \"endpoint\": \"core.windows.net\"\n}"
          },
          "metadata": {},
          "execution_count": 17
        }
      ],
      "source": [
        "datastore = Datastore.get_default(workspace=ws)\n",
        "datastore"
      ]
    },
    {
      "cell_type": "code",
      "execution_count": 51,
      "metadata": {},
      "outputs": [
        {
          "output_type": "stream",
          "name": "stdout",
          "text": "Uploading an estimated of 1 files\nUploading ./data/uploads\\titanic-engineered.csv\nUploaded ./data/uploads\\titanic-engineered.csv, 1 files out of an estimated total of 1\nUploaded 1 files\n"
        }
      ],
      "source": [
        "#Upload and register our engineered dataset\n",
        "\n",
        "datastore.upload(src_dir='./data/uploads', target_path='data', overwrite=True)\n",
        "\n",
        "dataset = Dataset.Tabular.from_delimited_files(datastore.path('data/titanic-engineered.csv'))\n",
        "dataset = dataset.register(workspace=ws, name=dataset_name, description=\"Titanic training data\", create_new_version=True)"
      ]
    },
    {
      "metadata": {
        "trusted": false
      },
      "cell_type": "code",
      "source": [
        "from sklearn.model_selection import train_test_split\n",
        "from sklearn.tree import DecisionTreeClassifier\n",
        "\n",
        "run = experiment.start_logging(snapshot_directory=None)\n",
        "\n",
        "\n",
        "titanic_df = dataset.to_pandas_dataframe()\n",
        "\n",
        "# separate dependent and independent variables\n",
        "X = titanic_df.iloc[ : , :-1].values\n",
        "y = titanic_df.iloc[ : , 4].values\n",
        "\n",
        "# 1/3 testing, 2/3 training\n",
        "X_train, X_test, Y_train, Y_test = train_test_split(X, y, test_size=0.33, random_state=51)\n",
        "\n",
        "# simple decision tree for demo purposes\n",
        "decision_tree = DecisionTreeClassifier() \n",
        "decision_tree.fit(X_train, Y_train)  \n",
        "Y_pred = decision_tree.predict(X_test) \n",
        "acc_decision_tree = round(decision_tree.score(X_train, Y_train) * 100, 2)\n",
        "\n",
        "# Log final results\n",
        "run.log(\"Decision tree accuracy\", acc_decision_tree)\n",
        "\n",
        "filename = 'outputs/finalized_model.sav'\n",
        "pickle.dump(decision_tree , open(filename, 'wb'))\n",
        "run.upload_file(name = 'outputs/finalized_model.sav', path_or_stream = filename)\n",
        "\n",
        "# Complete tracking and get link to details\n",
        "run.complete()\n",
        "print(\"Run completed\")"
      ],
      "execution_count": 1,
      "outputs": [
        {
          "output_type": "error",
          "ename": "NameError",
          "evalue": "name 'experiment' is not defined",
          "traceback": [
            "\u001b[1;31m---------------------------------------------------------------------------\u001b[0m",
            "\u001b[1;31mNameError\u001b[0m                                 Traceback (most recent call last)",
            "\u001b[1;32m<ipython-input-1-cd91ba44ed89>\u001b[0m in \u001b[0;36m<module>\u001b[1;34m\u001b[0m\n\u001b[0;32m      2\u001b[0m \u001b[1;32mfrom\u001b[0m \u001b[0msklearn\u001b[0m\u001b[1;33m.\u001b[0m\u001b[0mtree\u001b[0m \u001b[1;32mimport\u001b[0m \u001b[0mDecisionTreeClassifier\u001b[0m\u001b[1;33m\u001b[0m\u001b[0m\n\u001b[0;32m      3\u001b[0m \u001b[1;33m\u001b[0m\u001b[0m\n\u001b[1;32m----> 4\u001b[1;33m \u001b[0mrun\u001b[0m \u001b[1;33m=\u001b[0m \u001b[0mexperiment\u001b[0m\u001b[1;33m.\u001b[0m\u001b[0mstart_logging\u001b[0m\u001b[1;33m(\u001b[0m\u001b[0msnapshot_directory\u001b[0m\u001b[1;33m=\u001b[0m\u001b[1;32mNone\u001b[0m\u001b[1;33m)\u001b[0m\u001b[1;33m\u001b[0m\u001b[0m\n\u001b[0m\u001b[0;32m      5\u001b[0m \u001b[1;33m\u001b[0m\u001b[0m\n\u001b[0;32m      6\u001b[0m \u001b[1;33m\u001b[0m\u001b[0m\n",
            "\u001b[1;31mNameError\u001b[0m: name 'experiment' is not defined"
          ]
        }
      ]
    },
    {
      "cell_type": "code",
      "execution_count": 57,
      "metadata": {},
      "outputs": [],
      "source": [
        "model = run.register_model(model_name = \"titanic_classifier_model\", model_path = \"outputs/finalized_model.sav\")"
      ]
    },
    {
      "cell_type": "code",
      "execution_count": 59,
      "metadata": {},
      "outputs": [],
      "source": [
        "inference_config = InferenceConfig(entry_script='score.py', runtime='python', conda_file='service-env.yml')\n"
      ]
    },
    {
      "cell_type": "code",
      "execution_count": 64,
      "metadata": {},
      "outputs": [
        {
          "output_type": "stream",
          "name": "stdout",
          "text": "SucceededACI service creation operation finished, operation \"Succeeded\"\nService State: Transitioning\n"
        }
      ],
      "source": [
        "from azureml.core.webservice import AciWebservice\n",
        "\n",
        "try:\n",
        "    service = Webservice(ws, webservice_name)\n",
        "    service.update(models=[model], inference_config = inference_config)\n",
        "except:\n",
        "    pass\n",
        "    \n",
        "    aci_config = AciWebservice.deploy_configuration(cpu_cores=1, memory_gb=1)\n",
        "\n",
        "    service = Model.deploy(workspace=ws, name=webservice_name, models=[model], inference_config=inference_config, deployment_config=aci_config, deployment_target=None)\n",
        "    service.update(description='Binary classifier for Titanic')\n",
        "    service.wait_for_deployment(show_output = True)\n",
        "\n",
        "print(f'Service State: {service.state}')"
      ]
    },
    {
      "cell_type": "code",
      "execution_count": 70,
      "metadata": {},
      "outputs": [
        {
          "output_type": "execute_result",
          "data": {
            "text/plain": "[1, 1]"
          },
          "metadata": {},
          "execution_count": 70
        }
      ],
      "source": [
        "   # Testing our webservice\n",
        "   \n",
        "   import json\n",
        "   from azureml.core import Webservice\n",
        "\n",
        "   service = Webservice(workspace=ws, name=webservice_name)\n",
        "    \n",
        "   request = json.dumps({\"data\" : [{\"sex\": 0, \"pclass\" : 3, \"age\": 3, \"unaccompanied\": 1}, {\"sex\": 1, \"pclass\" : 1, \"age\": 2, \"unaccompanied\": 1}]})\n",
        "   response = service.run(request)\n",
        "   response #should receive array with 2 predicted values of survival"
      ]
    }
  ],
  "metadata": {
    "kernelspec": {
      "name": "python3",
      "display_name": "Python 3",
      "language": "python"
    },
    "language_info": {
      "mimetype": "text/x-python",
      "nbconvert_exporter": "python",
      "name": "python",
      "pygments_lexer": "ipython3",
      "version": "3.6.2-final",
      "file_extension": ".py",
      "codemirror_mode": {
        "version": 3,
        "name": "ipython"
      }
    }
  },
  "nbformat": 4,
  "nbformat_minor": 2
}